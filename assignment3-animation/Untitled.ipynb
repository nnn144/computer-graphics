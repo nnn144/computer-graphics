{
 "cells": [
  {
   "cell_type": "code",
   "execution_count": 1,
   "metadata": {},
   "outputs": [
    {
     "data": {
      "application/javascript": [
       "require.undef(\"nbextensions/vpython_libraries/glow.min\");"
      ],
      "text/plain": [
       "<IPython.core.display.Javascript object>"
      ]
     },
     "metadata": {},
     "output_type": "display_data"
    },
    {
     "data": {
      "application/javascript": [
       "require.undef(\"nbextensions/vpython_libraries/glowcomm\");"
      ],
      "text/plain": [
       "<IPython.core.display.Javascript object>"
      ]
     },
     "metadata": {},
     "output_type": "display_data"
    },
    {
     "data": {
      "application/javascript": [
       "require.undef(\"nbextensions/vpython_libraries/jquery-ui.custom.min\");"
      ],
      "text/plain": [
       "<IPython.core.display.Javascript object>"
      ]
     },
     "metadata": {},
     "output_type": "display_data"
    },
    {
     "data": {
      "application/javascript": [
       "require([\"nbextensions/vpython_libraries/glow.min\"], function(){console.log(\"GLOW LOADED\");})"
      ],
      "text/plain": [
       "<IPython.core.display.Javascript object>"
      ]
     },
     "metadata": {},
     "output_type": "display_data"
    },
    {
     "data": {
      "application/javascript": [
       "require([\"nbextensions/vpython_libraries/glowcomm\"], function(){console.log(\"GLOWCOMM LOADED\");})"
      ],
      "text/plain": [
       "<IPython.core.display.Javascript object>"
      ]
     },
     "metadata": {},
     "output_type": "display_data"
    },
    {
     "data": {
      "application/javascript": [
       "require([\"nbextensions/vpython_libraries/jquery-ui.custom.min\"], function(){console.log(\"JQUERY LOADED\");})"
      ],
      "text/plain": [
       "<IPython.core.display.Javascript object>"
      ]
     },
     "metadata": {},
     "output_type": "display_data"
    },
    {
     "data": {
      "text/html": [
       "<div id=\"glowscript\" class=\"glowscript\"></div>"
      ],
      "text/plain": [
       "<IPython.core.display.HTML object>"
      ]
     },
     "metadata": {},
     "output_type": "display_data"
    },
    {
     "data": {
      "application/javascript": [
       "window.__context = { glowscript_container: $(\"#glowscript\").removeAttr(\"id\")}"
      ],
      "text/plain": [
       "<IPython.core.display.Javascript object>"
      ]
     },
     "metadata": {},
     "output_type": "display_data"
    },
    {
     "data": {
      "text/html": [
       "<div id=\"glowscript\" class=\"glowscript\"></div>"
      ],
      "text/plain": [
       "<IPython.core.display.HTML object>"
      ]
     },
     "metadata": {},
     "output_type": "display_data"
    },
    {
     "data": {
      "application/javascript": [
       "window.__context = { glowscript_container: $(\"#glowscript\").removeAttr(\"id\")}"
      ],
      "text/plain": [
       "<IPython.core.display.Javascript object>"
      ]
     },
     "metadata": {},
     "output_type": "display_data"
    }
   ],
   "source": [
    "import math\n",
    "import numpy as np\n",
    "from vpython import *\n",
    "scence = canvas()"
   ]
  },
  {
   "cell_type": "code",
   "execution_count": null,
   "metadata": {
    "collapsed": true
   },
   "outputs": [],
   "source": [
    "\"\"\"Useful functions\"\"\"\n",
    "# convert vpython vector to numpy array\n",
    "# moving in a plain\n",
    "def point(pos):\n",
    "    return np.array([pos.x, pos.y])\n",
    "\n",
    "# a penalty field for collision avoidance\n",
    "def field_func(dist_obj, threshold):\n",
    "    # return zero when d is greater than the threshold\n",
    "    if dist_obj > threshold:\n",
    "        return 0\n",
    "    else:\n",
    "        return math.log(threshold / dist_obj)\n",
    "\n",
    "# sum of penalty\n",
    "def sum_field(pos, list_objects, threshold):\n",
    "    # total penalty of all the objects\n",
    "    total = 0\n",
    "    for temp_obj in list_objects:\n",
    "        # compute the distance from pos to temp_object\n",
    "        pos_to_obj = dist(pos, point(temp_obj.pos))\n",
    "        # exclude the same object\n",
    "        if pos_to_obj != 0:\n",
    "            total = total + field_func(pos_to_obj, threshold)\n",
    "    \n",
    "    # return the sum\n",
    "    return total\n",
    "\n",
    "# distance function: compute the distance between two points\n",
    "def dist(pointA, pointB):\n",
    "    pointA_to_pointB = np.linalg.norm(pointA - pointB)\n",
    "    return pointA_to_pointB\n",
    "\n",
    "# cost function\n",
    "def cost(current_pos, goal_pos, penalty):\n",
    "    current_to_goal = dist(current_pos, goal_pos)\n",
    "    return current_to_goal + penalty\n",
    "\n",
    "# find the min cost locally\n",
    "def cost_gradient(current_pos, goal_pos, delta_x, delta_y, list_objects, threshold):\n",
    "    # four costs\n",
    "    # for delta_x\n",
    "    # x1 is x + delta_x, x2 is x - delta_x\n",
    "    pos_x1 = np.array(current_pos)\n",
    "    pos_x1[0] = pos_x1[0] + delta_x\n",
    "    penalty_x1 = sum_field(pos_x1, list_objects, threshold)\n",
    "    cost_x1 = cost(pos_x1, goal_pos, penalty_x1)\n",
    "    \n",
    "    pos_x2 = np.array(current_pos)\n",
    "    pos_x2[0] = pos_x2[0] - delta_x\n",
    "    penalty_x2 = sum_field(pos_x2, list_objects, threshold)\n",
    "    cost_x2 = cost(pos_x2, goal_pos, penalty_x2)\n",
    "    \n",
    "    # for delta_y\n",
    "    # y1 is y + delta_y, y2 is y - delta_y\n",
    "    pos_y1 = np.array(current_pos)\n",
    "    pos_y1[1] = pos_y1[1] + delta_y\n",
    "    penalty_y1 = sum_field(pos_y1, list_objects, threshold)\n",
    "    cost_y1 = cost(pos_y1, goal_pos, penalty_y1)\n",
    "    \n",
    "    pos_y2 = np.array(current_pos)\n",
    "    pos_y2[1] = pos_y2[1] - delta_y\n",
    "    penalty_y2 = sum_field(pos_y2, list_objects, threshold)\n",
    "    cost_y2 = cost(pos_y2, goal_pos, penalty_y2)\n",
    "    \n",
    "    # compute the gradient\n",
    "    delta_cost_x = cost_x1 - cost_x2\n",
    "    delta_cost_y = cost_y1 - cost_y2\n",
    "    gradient = np.array([delta_cost_x / 2*delta_x, delta_cost_y / 2*delta_y])\n",
    "    # normalize\n",
    "    gradient_len = math.sqrt(gradient[0]**2 + gradient[1]**2)\n",
    "    \n",
    "    return gradient / gradient_len\n",
    "\n",
    "# =============================== Function End ===================================== #\n",
    "\n",
    "# =============================== Main Program ===================================== #\n",
    "\"\"\"Board: the ground that all the objects will be put on it\"\"\"\n",
    "length = 200\n",
    "width = 200\n",
    "thickness = 0.2\n",
    "board = box(pos=vec(0, 0, -thickness), size=vec(length, width, thickness), color=color.gray(0.8))\n",
    "\n",
    "# used to stored all the objects on the board\n",
    "list_obj = []\n",
    "\n",
    "\"\"\"4 Obstacles (cylinders): in the middle of the board\"\"\"\n",
    "offset = 15\n",
    "obs_radius = 5\n",
    "height = 15\n",
    "orange = vec(1, 0.5, 0)\n",
    "obs1 = cylinder(pos=vec(offset, offset, 0), axis=vec(0, 0, height), radius=obs_radius, color=orange)\n",
    "list_obj.append(obs1)\n",
    "obs2 = cylinder(pos=vec(-offset, offset, 0), axis=vec(0, 0, height), radius=obs_radius, color=orange)\n",
    "list_obj.append(obs2)\n",
    "obs3 = cylinder(pos=vec(-offset, -offset, 0), axis=vec(0, 0, height), radius=obs_radius, color=orange)\n",
    "list_obj.append(obs3)\n",
    "obs4 = cylinder(pos=vec(offset, -offset, 0), axis=vec(0, 0, height), radius=obs_radius, color=orange)\n",
    "list_obj.append(obs4)\n",
    "\n",
    "\"\"\"16 pedestrians: pedestrian and the velocity\"\"\"\n",
    "list_ped = []\n",
    "ped_radius = 3\n",
    "position_ped = [vec(-95,  15, ped_radius), # ped 1\n",
    "                vec(-95,   5, ped_radius), # ped 2\n",
    "                vec(-95,  -5, ped_radius), # ped 3\n",
    "                vec(-95, -15, ped_radius), # ped 4\n",
    "                \n",
    "                vec( 95,  15, ped_radius), # ped 5\n",
    "                vec( 95,   5, ped_radius), # ped 6\n",
    "                vec( 95,  -5, ped_radius), # ped 7\n",
    "                vec( 95, -15, ped_radius), # ped 8\n",
    "                \n",
    "                vec( 15,  95, ped_radius), # ped 9\n",
    "                vec(  5,  95, ped_radius), # ped 10\n",
    "                vec( -5,  95, ped_radius), # ped 11\n",
    "                vec(-15,  95, ped_radius), # ped 12\n",
    "                \n",
    "                vec( 15, -95, ped_radius), # ped 13\n",
    "                vec(  5, -95, ped_radius), # ped 14\n",
    "                vec( -5, -95, ped_radius), # ped 15\n",
    "                vec(-15, -95, ped_radius)] # ped 16\n",
    "\n",
    "v_scalar = 25   # Scalar of the velocity\n",
    "list_varr = []  # list of velocity arrows\n",
    "list_goal = []  # list of goal position\n",
    "for i in range(16):\n",
    "    ped = sphere(pos=position_ped[i], radius=ped_radius, color=color.green)\n",
    "    list_obj.append(ped)\n",
    "    list_ped.append(ped)\n",
    "    # set initial velocity and goal pos\n",
    "    temp_velocity = 0\n",
    "    goal_pos = np.array([])\n",
    "    if i <= 3:\n",
    "        temp_velocity = vector(v_scalar, 0, 0)   # pedestrian move from left to right\n",
    "        goal_pos = np.array([ped.pos.x + 200, ped.pos.y])\n",
    "    elif i <= 7:\n",
    "        temp_velocity = vector(-v_scalar, 0, 0)  # pedestrian move from right to left\n",
    "        goal_pos = np.array([ped.pos.x - 200, ped.pos.y])\n",
    "    elif i <= 11:\n",
    "        temp_velocity = vector(0, -v_scalar, 0)  # pedestrian move from top to bottom\n",
    "        goal_pos = np.array([ped.pos.x, ped.pos.y - 200])\n",
    "    else:\n",
    "        temp_velocity = vector(0, v_scalar, 0)   # pedestrian move from bottom to top\n",
    "        goal_pos = np.array([ped.pos.x, ped.pos.y + 200])\n",
    "        \n",
    "    ped.velocity = temp_velocity\n",
    "    list_goal.append(goal_pos)\n",
    "    # initial velocity arrow\n",
    "    v_arrow = arrow(pos=ped.pos, axis=0.2 * ped.velocity, color=color.yellow)\n",
    "    list_varr.append(v_arrow)\n",
    "\n",
    "# ped1 = sphere(pos=vec(-95, 15, ped_radius), radius=ped_radius, make_trail=True, color=color.green)\n",
    "# list_obj.append(ped1)\n",
    "# list_ped.append(ped1)\n",
    "# initial velocity of each pedestrian\n",
    "# ped1.velocity = vector(25, 0, 0)\n",
    "# ped2.velocity = ped1.velocity\n",
    "# arrow_scale = 1\n",
    "# v_arrow1 = arrow(pos=ped1.pos, axis=arrow_scale * ped1.velocity, color=color.yellow)\n",
    "# v_arrow2 = arrow(pos=ped2.pos, axis=arrow_scale * ped2.velocity, color=color.yellow)\n",
    "\n",
    "# loop\n",
    "threshold = 10000\n",
    "num_ped = len(list_ped)\n",
    "scene.autoscale = False\n",
    "\n",
    "while True:\n",
    "    rate(50)\n",
    "    for i in range(num_ped):\n",
    "        # get the corresponding object\n",
    "        ped1 = list_ped[i]\n",
    "        goal_pos = list_goal[i]\n",
    "        v_arrow1 = list_varr[i]\n",
    "        \n",
    "        # computation for ped\n",
    "        current_pos = np.array([ped1.pos.x, ped1.pos.y])\n",
    "        ped1_gradient = cost_gradient(current_pos, goal_pos, 0.5, 0.5, list_obj, threshold)\n",
    "        ped1.pos.x = ped1.pos.x - ped1_gradient[0]\n",
    "        ped1.pos.y = ped1.pos.y - ped1_gradient[1]\n",
    "        # computation for velocity\n",
    "        ped1.velocity = vector(-25*ped1_gradient[0], -25*ped1_gradient[1], 0)\n",
    "        v_arrow1.pos = ped1.pos\n",
    "        v_arrow1.axis = ped1.velocity\n"
   ]
  },
  {
   "cell_type": "code",
   "execution_count": 16,
   "metadata": {},
   "outputs": [
    {
     "name": "stdout",
     "output_type": "stream",
     "text": [
      "[   1 1000    3]\n",
      "[1 2 3]\n"
     ]
    }
   ],
   "source": [
    "a = np.array([1, 2, 3])\n",
    "b = np.array(a)\n",
    "b[1] = 1000\n",
    "print (b)\n",
    "print (a)"
   ]
  }
 ],
 "metadata": {
  "kernelspec": {
   "display_name": "PY3_GPU",
   "language": "python",
   "name": "python36_gpu"
  },
  "language_info": {
   "codemirror_mode": {
    "name": "ipython",
    "version": 3
   },
   "file_extension": ".py",
   "mimetype": "text/x-python",
   "name": "python",
   "nbconvert_exporter": "python",
   "pygments_lexer": "ipython3",
   "version": "3.6.4"
  }
 },
 "nbformat": 4,
 "nbformat_minor": 2
}
